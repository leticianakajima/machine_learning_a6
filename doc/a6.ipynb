{
 "cells": [
  {
   "cell_type": "markdown",
   "metadata": {},
   "source": [
    "# CPSC 340 Assignment 6"
   ]
  },
  {
   "cell_type": "code",
   "execution_count": 52,
   "metadata": {},
   "outputs": [],
   "source": [
    "import os\n",
    "import numpy as np\n",
    "import pandas as pd\n",
    "import matplotlib.pyplot as plt\n",
    "import pdb\n",
    "\n",
    "%matplotlib inline\n",
    "\n",
    "from scipy.sparse import csr_matrix as sparse_matrix\n",
    "\n",
    "from sklearn.neighbors import NearestNeighbors\n",
    "from sklearn.decomposition import TruncatedSVD"
   ]
  },
  {
   "cell_type": "markdown",
   "metadata": {},
   "source": [
    "## Instructions\n",
    "rubric={mechanics:5}\n",
    "\n",
    "\n",
    "The above points are allocated for following the [homework submission instructions](https://github.ugrad.cs.ubc.ca/CPSC340-2017W-T2/home/blob/master/homework_instructions.md)."
   ]
  },
  {
   "cell_type": "markdown",
   "metadata": {},
   "source": [
    "## Exercise 1: Finding similar items\n",
    "\n",
    "For this question we'll be using the [Amazon product data set](http://jmcauley.ucsd.edu/data/amazon/). The author of the data set has asked for the following citations:\n",
    "\n",
    "> Ups and downs: Modeling the visual evolution of fashion trends with one-class collaborative filtering.\n",
    "> R. He, J. McAuley.\n",
    "> WWW, 2016.\n",
    "> \n",
    "> Image-based recommendations on styles and substitutes.\n",
    "> J. McAuley, C. Targett, J. Shi, A. van den Hengel.\n",
    "> SIGIR, 2015.\n",
    "\n",
    "We will focus on the \"Patio, Lawn, and Garden\" section. Download the [ratings](http://snap.stanford.edu/data/amazon/productGraph/categoryFiles/ratings_Patio_Lawn_and_Garden.csv) and place the file in the `data` directory with the original filename. Once you do that, the code below should load the data:"
   ]
  },
  {
   "cell_type": "code",
   "execution_count": 53,
   "metadata": {},
   "outputs": [
    {
     "data": {
      "text/html": [
       "<div>\n",
       "<style scoped>\n",
       "    .dataframe tbody tr th:only-of-type {\n",
       "        vertical-align: middle;\n",
       "    }\n",
       "\n",
       "    .dataframe tbody tr th {\n",
       "        vertical-align: top;\n",
       "    }\n",
       "\n",
       "    .dataframe thead th {\n",
       "        text-align: right;\n",
       "    }\n",
       "</style>\n",
       "<table border=\"1\" class=\"dataframe\">\n",
       "  <thead>\n",
       "    <tr style=\"text-align: right;\">\n",
       "      <th></th>\n",
       "      <th>user</th>\n",
       "      <th>item</th>\n",
       "      <th>rating</th>\n",
       "      <th>timestamp</th>\n",
       "    </tr>\n",
       "  </thead>\n",
       "  <tbody>\n",
       "    <tr>\n",
       "      <th>0</th>\n",
       "      <td>A2VNYWOPJ13AFP</td>\n",
       "      <td>0981850006</td>\n",
       "      <td>5.0</td>\n",
       "      <td>1259798400</td>\n",
       "    </tr>\n",
       "    <tr>\n",
       "      <th>1</th>\n",
       "      <td>A20DWVV8HML3AW</td>\n",
       "      <td>0981850006</td>\n",
       "      <td>5.0</td>\n",
       "      <td>1371081600</td>\n",
       "    </tr>\n",
       "    <tr>\n",
       "      <th>2</th>\n",
       "      <td>A3RVP3YBYYOPRH</td>\n",
       "      <td>0981850006</td>\n",
       "      <td>5.0</td>\n",
       "      <td>1257984000</td>\n",
       "    </tr>\n",
       "    <tr>\n",
       "      <th>3</th>\n",
       "      <td>A28XY55TP3Q90O</td>\n",
       "      <td>0981850006</td>\n",
       "      <td>5.0</td>\n",
       "      <td>1314144000</td>\n",
       "    </tr>\n",
       "    <tr>\n",
       "      <th>4</th>\n",
       "      <td>A3VZW1BGUQO0V3</td>\n",
       "      <td>0981850006</td>\n",
       "      <td>5.0</td>\n",
       "      <td>1308268800</td>\n",
       "    </tr>\n",
       "  </tbody>\n",
       "</table>\n",
       "</div>"
      ],
      "text/plain": [
       "             user        item  rating   timestamp\n",
       "0  A2VNYWOPJ13AFP  0981850006     5.0  1259798400\n",
       "1  A20DWVV8HML3AW  0981850006     5.0  1371081600\n",
       "2  A3RVP3YBYYOPRH  0981850006     5.0  1257984000\n",
       "3  A28XY55TP3Q90O  0981850006     5.0  1314144000\n",
       "4  A3VZW1BGUQO0V3  0981850006     5.0  1308268800"
      ]
     },
     "execution_count": 53,
     "metadata": {},
     "output_type": "execute_result"
    }
   ],
   "source": [
    "filename = \"ratings.csv\"\n",
    "\n",
    "with open(os.path.join(\"..\", \"data\", filename), \"rb\") as f:\n",
    "    ratings = pd.read_csv(f,names=(\"user\",\"item\",\"rating\",\"timestamp\"))\n",
    "ratings.head()"
   ]
  },
  {
   "cell_type": "markdown",
   "metadata": {},
   "source": [
    "We'd also like to construct the user-product matrix `X`. Let's see how big it would be:"
   ]
  },
  {
   "cell_type": "code",
   "execution_count": 54,
   "metadata": {},
   "outputs": [
    {
     "name": "stdout",
     "output_type": "stream",
     "text": [
      "Number of ratings: 993490\n",
      "The average rating: 4.006400668350965\n",
      "Number of users: 714791\n",
      "Number of items: 105984\n",
      "Fraction nonzero: 1.3114269915944552e-05\n",
      "Size of full X matrix: 606.05 GB\n"
     ]
    }
   ],
   "source": [
    "def get_stats(ratings, item_key=\"item\", user_key=\"user\"):\n",
    "    print(\"Number of ratings:\", len(ratings))\n",
    "    print(\"The average rating:\", np.mean(ratings[\"rating\"]))\n",
    "\n",
    "    d = len(set(ratings[item_key]))\n",
    "    n = len(set(ratings[user_key]))\n",
    "    print(\"Number of users:\", n)\n",
    "    print(\"Number of items:\", d)\n",
    "    print(\"Fraction nonzero:\", len(ratings)/(n*d))\n",
    "    print(\"Size of full X matrix: %.2f GB\" % ((n*d)*8/1e9))\n",
    "\n",
    "    return n,d\n",
    "\n",
    "n,d = get_stats(ratings)"
   ]
  },
  {
   "cell_type": "markdown",
   "metadata": {},
   "source": [
    "600 GB! That is way too big. We don't want to create that matrix. On the other hand, we see that we only have about 1 million ratings, which would be around 8 MB ($10^6$ numbers $\\times$ at 8 bytes per double precision floating point number). Much more manageable. "
   ]
  },
  {
   "cell_type": "code",
   "execution_count": 55,
   "metadata": {},
   "outputs": [],
   "source": [
    "def create_X(ratings,n,d,user_key=\"user\",item_key=\"item\"):\n",
    "    user_mapper = dict(zip(np.unique(ratings[user_key]), list(range(n))))\n",
    "    item_mapper = dict(zip(np.unique(ratings[item_key]), list(range(d))))\n",
    "\n",
    "    user_inverse_mapper = dict(zip(list(range(n)), np.unique(ratings[user_key])))\n",
    "    item_inverse_mapper = dict(zip(list(range(d)), np.unique(ratings[item_key])))\n",
    "\n",
    "    user_ind = [user_mapper[i] for i in ratings[user_key]]\n",
    "    item_ind = [item_mapper[i] for i in ratings[item_key]]\n",
    "\n",
    "    X = sparse_matrix((ratings[\"rating\"], (user_ind, item_ind)), shape=(n,d))\n",
    "    \n",
    "    return X, user_mapper, item_mapper, user_inverse_mapper, item_inverse_mapper, user_ind, item_ind\n",
    "\n",
    "X, user_mapper, item_mapper, user_inverse_mapper, item_inverse_mapper, user_ind, item_ind = create_X(ratings, n, d)"
   ]
  },
  {
   "cell_type": "code",
   "execution_count": 56,
   "metadata": {},
   "outputs": [
    {
     "name": "stdout",
     "output_type": "stream",
     "text": [
      "0\n",
      "A0001528BGUBOEVR6T5U\n",
      "0981850006\n",
      "  (0, 17777)\t2.0\n",
      "  (1, 4710)\t5.0\n",
      "  (2, 28823)\t4.0\n",
      "  (2, 64502)\t5.0\n",
      "  (3, 400)\t4.0\n",
      "  (4, 80402)\t3.0\n",
      "  (5, 22427)\t5.0\n",
      "  (6, 17300)\t5.0\n",
      "  (6, 19950)\t5.0\n",
      "  (7, 80602)\t1.0\n",
      "  (8, 61229)\t5.0\n",
      "  (9, 85209)\t5.0\n",
      "  (10, 4872)\t5.0\n",
      "  (11, 54701)\t5.0\n",
      "  (12, 25476)\t5.0\n",
      "  (13, 32906)\t3.0\n",
      "  (14, 12981)\t1.0\n",
      "  (15, 6732)\t5.0\n",
      "  (15, 7598)\t4.0\n",
      "  (15, 47818)\t5.0\n",
      "  (16, 39187)\t2.0\n",
      "  (16, 45095)\t5.0\n",
      "  (17, 67459)\t2.0\n",
      "  (18, 65292)\t5.0\n",
      "  (19, 27459)\t5.0\n",
      "  :\t:\n",
      "  (714771, 93132)\t5.0\n",
      "  (714772, 10751)\t5.0\n",
      "  (714772, 14572)\t5.0\n",
      "  (714773, 15913)\t5.0\n",
      "  (714774, 27243)\t5.0\n",
      "  (714775, 9543)\t5.0\n",
      "  (714776, 58363)\t5.0\n",
      "  (714777, 11158)\t4.0\n",
      "  (714778, 83566)\t1.0\n",
      "  (714779, 493)\t5.0\n",
      "  (714779, 1898)\t3.0\n",
      "  (714780, 15979)\t5.0\n",
      "  (714781, 49908)\t5.0\n",
      "  (714781, 85010)\t5.0\n",
      "  (714782, 12292)\t5.0\n",
      "  (714783, 73345)\t5.0\n",
      "  (714784, 2378)\t1.0\n",
      "  (714785, 26050)\t5.0\n",
      "  (714785, 34895)\t5.0\n",
      "  (714786, 5615)\t1.0\n",
      "  (714787, 93840)\t5.0\n",
      "  (714788, 70606)\t5.0\n",
      "  (714789, 53699)\t4.0\n",
      "  (714790, 63678)\t5.0\n",
      "  (714790, 95880)\t5.0\n",
      "(714791, 105984)\n",
      "993490\n"
     ]
    }
   ],
   "source": [
    "print(item_mapper['0981850006']) #returns the index of this rating\n",
    "print(user_inverse_mapper[0]) #returns the user ID\n",
    "print(item_inverse_mapper[0]) #returns the rating at that index\n",
    "\n",
    "#print(item_inverse_mapper[4710])\n",
    "\n",
    "#print(item_mapper['17777']) \n",
    "print(X)\n",
    "\n",
    "# sanity check\n",
    "\n",
    "print(X.shape) # should be number of users by number of items\n",
    "print(X.nnz)   # number of nonzero elements -- should equal number of ratings"
   ]
  },
  {
   "cell_type": "code",
   "execution_count": 57,
   "metadata": {},
   "outputs": [
    {
     "data": {
      "text/plain": [
       "7947920"
      ]
     },
     "execution_count": 57,
     "metadata": {},
     "output_type": "execute_result"
    }
   ],
   "source": [
    "X.data.nbytes"
   ]
  },
  {
   "cell_type": "markdown",
   "metadata": {},
   "source": [
    "(Above: verifying our estimate of 8 MB to store sparse `X`)"
   ]
  },
  {
   "cell_type": "markdown",
   "metadata": {},
   "source": [
    "### 1.1\n",
    "rubric={reasoning:2}\n",
    "\n",
    "Find the following items:\n",
    "\n",
    "1. the item with the most reviews\n",
    "2. the item with the most total stars\n",
    "3. the item with the highest average stars\n",
    "\n",
    "Then, find the names of these items by looking them up with the url https://www.amazon.com/dp/ITEM_ID, where `ITEM_ID` is the id of the item."
   ]
  },
  {
   "cell_type": "code",
   "execution_count": 58,
   "metadata": {},
   "outputs": [
    {
     "name": "stdout",
     "output_type": "stream",
     "text": [
      "https://www.amazon.com/dp/B00CFM0P7Y\n"
     ]
    }
   ],
   "source": [
    "url_amazon = \"https://www.amazon.com/dp/%s\"\n",
    "#a.max, want the one with the most revies\n",
    "\n",
    "# example:\n",
    "print(url_amazon % 'B00CFM0P7Y')"
   ]
  },
  {
   "cell_type": "code",
   "execution_count": 59,
   "metadata": {},
   "outputs": [
    {
     "name": "stdout",
     "output_type": "stream",
     "text": [
      "https://www.amazon.com/dp/B000HCLLMM\n"
     ]
    }
   ],
   "source": [
    "#1.# times it shows up - want the maximum amount\n",
    "user_ind[0]\n",
    "item_ind[4781]\n",
    "\n",
    "array = []\n",
    "array = X.getnnz(axis=0)\n",
    "#print(array) #amount of ratings per item\n",
    "\n",
    "ind = np.argmax(array) #index of the item with the most ratings\n",
    "#print(array[ind])  #amount of ratings of the item\n",
    "\n",
    "itemid = item_inverse_mapper[ind] #item that is most rated\n",
    "print(url_amazon % itemid)"
   ]
  },
  {
   "cell_type": "code",
   "execution_count": 60,
   "metadata": {},
   "outputs": [
    {
     "name": "stdout",
     "output_type": "stream",
     "text": [
      "https://www.amazon.com/dp/B000HCLLMM\n"
     ]
    }
   ],
   "source": [
    "#2.#item with the most total stars:\n",
    "\n",
    "array_stars = np.sum(X, axis=0) #array of the sum of the stars\n",
    "ind = np.argmax(array_stars)\n",
    "itemid = item_inverse_mapper[ind]\n",
    "print(url_amazon % itemid)"
   ]
  },
  {
   "cell_type": "code",
   "execution_count": 61,
   "metadata": {},
   "outputs": [
    {
     "name": "stdout",
     "output_type": "stream",
     "text": [
      "https://www.amazon.com/dp/0981850006\n"
     ]
    }
   ],
   "source": [
    "#3.divide by ratings\n",
    "array_stars = np.sum(X, axis=0) #array of the stars per item\n",
    "array_ratings = X.getnnz(axis=0) # of ratings_array\n",
    "division_array = np.divide(array_stars, array_ratings)\n",
    "ind = np.argmax(division_array)\n",
    "\n",
    "itemid = item_inverse_mapper[ind] #item that is most rated\n",
    "print(url_amazon % itemid)"
   ]
  },
  {
   "cell_type": "markdown",
   "metadata": {},
   "source": [
    "### 1.2\n",
    "rubric={reasoning:2}"
   ]
  },
  {
   "cell_type": "markdown",
   "metadata": {},
   "source": [
    "Make the following histograms \n",
    "\n",
    "1. The number of ratings per user\n",
    "2. The number of ratings per item\n",
    "3. The ratings themselves\n",
    "\n",
    "For the first two, use\n",
    "```\n",
    "plt.yscale('log', nonposy='clip')\n",
    "``` \n",
    "to put the histograms on a log-scale."
   ]
  },
  {
   "cell_type": "code",
   "execution_count": 62,
   "metadata": {},
   "outputs": [
    {
     "name": "stdout",
     "output_type": "stream",
     "text": [
      "[1 1 2 ... 1 1 2]\n"
     ]
    },
    {
     "data": {
      "image/png": "[encoded data removed]",
      "text/plain": [
       "<matplotlib.figure.Figure at 0x7f99ab670eb8>"
      ]
     },
     "metadata": {},
     "output_type": "display_data"
    }
   ],
   "source": [
    "#1.Number of ratings per user\n",
    "array = X.getnnz(axis=1)\n",
    "print(array)\n",
    "plt.hist(array)\n",
    "plt.yscale('log', nonposy='clip')"
   ]
  },
  {
   "cell_type": "code",
   "execution_count": 63,
   "metadata": {},
   "outputs": [
    {
     "name": "stdout",
     "output_type": "stream",
     "text": [
      "[7 3 2 ... 6 5 5]\n"
     ]
    },
    {
     "data": {
      "image/png": "[encoded data removed]",
      "text/plain": [
       "<matplotlib.figure.Figure at 0x7f99c1d97400>"
      ]
     },
     "metadata": {},
     "output_type": "display_data"
    }
   ],
   "source": [
    "#2.Number of ratings per item \n",
    "array = X.getnnz(axis=0)\n",
    "print(array)\n",
    "plt.hist(array)\n",
    "plt.yscale('log', nonposy='clip')"
   ]
  },
  {
   "cell_type": "code",
   "execution_count": 64,
   "metadata": {},
   "outputs": [
    {
     "data": {
      "text/plain": [
       "(array([119633.,      0.,  57487.,      0.,      0.,  80891.,      0.,\n",
       "        174356.,      0., 561123.]),\n",
       " array([1. , 1.4, 1.8, 2.2, 2.6, 3. , 3.4, 3.8, 4.2, 4.6, 5. ]),\n",
       " <a list of 10 Patch objects>)"
      ]
     },
     "execution_count": 64,
     "metadata": {},
     "output_type": "execute_result"
    },
    {
     "data": {
      "image/png": "[encoded data removed]",
      "text/plain": [
       "<matplotlib.figure.Figure at 0x7f99c7329080>"
      ]
     },
     "metadata": {},
     "output_type": "display_data"
    }
   ],
   "source": [
    "#3.The ratings themselves\n",
    "#amount of times a certain rating (stars)\n",
    "\n",
    "ratings = np.array(X[X!=0]).flatten()\n",
    "plt.hist(ratings)"
   ]
  },
  {
   "cell_type": "markdown",
   "metadata": {},
   "source": [
    "### 1.3\n",
    "rubric={reasoning:1}\n",
    "\n",
    "Use scikit-learn's [NearestNeighbors](http://scikit-learn.org/stable/modules/generated/sklearn.neighbors.NearestNeighbors.html) object (which uses Euclidean distance by default) to find the 5 items most similar to [Brass Grill Brush 18 Inch Heavy Duty and Extra Strong, Solid Oak Handle](https://www.amazon.com/dp/B00CFM0P7Y). \n",
    "\n",
    "The code block below grabs the row of `X` associated with the grill brush. The mappers take care of going back and forther between the IDs (like `B00CFM0P7Y`) and the indices of the sparse array (0,1,2,...).\n",
    "\n",
    "Note: keep in mind that `NearestNeighbors` is for taking neighbors across rows, but here we're working across columns."
   ]
  },
  {
   "cell_type": "code",
   "execution_count": 65,
   "metadata": {},
   "outputs": [
    {
     "name": "stdout",
     "output_type": "stream",
     "text": [
      "https://www.amazon.com/dp/B00CFM0P7Y\n"
     ]
    }
   ],
   "source": [
    "grill_brush = \"B00CFM0P7Y\"\n",
    "grill_brush_ind = item_mapper[grill_brush]\n",
    "grill_brush_vec = X[:,grill_brush_ind]\n",
    "\n",
    "print(url_amazon % grill_brush)"
   ]
  },
  {
   "cell_type": "code",
   "execution_count": 66,
   "metadata": {},
   "outputs": [
    {
     "name": "stdout",
     "output_type": "stream",
     "text": [
      "(array([[ 0.        , 74.24284477, 75.14652354, 76.51797175, 76.51797175,\n",
      "        76.51797175]]), array([[ 93652, 103866, 103865,  98897,  72226, 102810]]))\n",
      "https://www.amazon.com/dp/B00IJB5MCS\n",
      "https://www.amazon.com/dp/B00IJB4MLA\n",
      "https://www.amazon.com/dp/B00EXE4O42\n",
      "https://www.amazon.com/dp/B00743MZCM\n",
      "https://www.amazon.com/dp/B00HVXQY9A\n"
     ]
    }
   ],
   "source": [
    "model = NearestNeighbors(metric='euclidean')\n",
    "model.fit(X.transpose())\n",
    "Y = model.kneighbors(grill_brush_vec.transpose(), n_neighbors=6)\n",
    "print(Y)\n",
    "# print(item_inverse_mapper[93652]) # this is the point itself B00CFM0P7Y\n",
    "\n",
    "I = 6\n",
    "for i in range(1, I):\n",
    "    print(url_amazon % item_inverse_mapper[Y[1][0][i]])"
   ]
  },
  {
   "cell_type": "markdown",
   "metadata": {},
   "source": [
    "### 1.4\n",
    "rubric={reasoning:1}\n",
    "\n",
    "Using cosine similarity instead of Euclidean distance in `NearestNeighbors`, find the 5 products most similar to `B00CFM0P7Y`."
   ]
  },
  {
   "cell_type": "code",
   "execution_count": 67,
   "metadata": {},
   "outputs": [
    {
     "name": "stdout",
     "output_type": "stream",
     "text": [
      "(array([[0.        , 0.6987374 , 0.72171348, 0.74965277, 0.78953721,\n",
      "        0.88109454]]), array([[ 93652, 103866, 103867, 103865,  98068,  98066]]))\n",
      "https://www.amazon.com/dp/B00IJB5MCS\n",
      "https://www.amazon.com/dp/B00IJB8F3G\n",
      "https://www.amazon.com/dp/B00IJB4MLA\n",
      "https://www.amazon.com/dp/B00EF45AHU\n",
      "https://www.amazon.com/dp/B00EF3YF0Y\n"
     ]
    }
   ],
   "source": [
    "model = NearestNeighbors(metric='cosine')\n",
    "model.fit(X.transpose())\n",
    "Y = model.kneighbors(grill_brush_vec.transpose(), n_neighbors=6)\n",
    "print(Y)\n",
    "# print(item_inverse_mapper[93652]) # this is the point itself B00CFM0P7Y\n",
    "\n",
    "I = 6\n",
    "for i in range(1, I):\n",
    "    print(url_amazon % item_inverse_mapper[Y[1][0][i]])"
   ]
  },
  {
   "cell_type": "markdown",
   "metadata": {},
   "source": [
    "### 1.5\n",
    "rubric={reasoning:2}\n",
    "\n",
    "For each of the two metrics, compute the compute the total popularity (total stars) of each of the 5 items and report it. Do the results make sense given what we discussed in class about Euclidean distance vs. cosine similarity? \n"
   ]
  },
  {
   "cell_type": "code",
   "execution_count": 68,
   "metadata": {},
   "outputs": [
    {
     "name": "stdout",
     "output_type": "stream",
     "text": [
      "Euclidean similarity\n",
      "[[266.]]\n",
      "[[205.]]\n",
      "[[5.]]\n",
      "[[5.]]\n",
      "[[5.]]\n",
      "Cosine similarity\n",
      "[[266.]]\n",
      "[[438.]]\n",
      "[[205.]]\n",
      "[[311.]]\n",
      "[[513.]]\n"
     ]
    }
   ],
   "source": [
    "print(\"Euclidean similarity\")    \n",
    "\n",
    "model = NearestNeighbors(metric='euclidean')\n",
    "model.fit(X.transpose())\n",
    "Y = model.kneighbors(grill_brush_vec.transpose(), n_neighbors=6)\n",
    "array_stars = np.sum(X, axis=0)\n",
    "# print(array_stars)\n",
    "# print(array_stars.shape)\n",
    "# print(item_inverse_mapper[93652]) # this is the point itself B00CFM0P7Y\n",
    "\n",
    "I = 6\n",
    "for i in range(1, I):\n",
    "    print(array_stars.transpose()[Y[1][0][i]])\n",
    "    #print(Y[1][0][i])\n",
    "    \n",
    "print(\"Cosine similarity\")    \n",
    "    \n",
    "model = NearestNeighbors(metric='cosine')\n",
    "model.fit(X.transpose())\n",
    "Y = model.kneighbors(grill_brush_vec.transpose(), n_neighbors=6)\n",
    "array_stars = np.sum(X, axis=0)\n",
    "# print(array_stars)\n",
    "# print(array_stars.shape)\n",
    "# print(item_inverse_mapper[93652]) # this is the point itself B00CFM0P7Y\n",
    "\n",
    "I = 6\n",
    "for i in range(1, I):\n",
    "    print(array_stars.transpose()[Y[1][0][i]])"
   ]
  },
  {
   "cell_type": "markdown",
   "metadata": {},
   "source": [
    "Cosine loss takes popularity of the item in consideration, so cosine similarity is more likely to find more popular items (as the angle of popular items will be smaller and closer to the query.) Hence it makes sense that we get items that are more popular (more stars, e.g. 513).\n",
    "\n",
    "For euclidean distance, very small vectors will have a similar distance to the query, which might be \"closer\" than larger vectors with smaller angles. Thus it makes sense that we get items with 5 stars in our result."
   ]
  },
  {
   "cell_type": "markdown",
   "metadata": {},
   "source": [
    "### 1.6\n",
    "rubric={reasoning:3}\n",
    "\n",
    "PCA gives us an approximation $X \\approx ZW$ where the rows of $Z$ contain a length-$k$ latent feature vectors for each user and the columns of $W$ contain a length-$k$ latent feature vectors for each item.\n",
    "\n",
    "Another strategy for finding similar items is to run PCA and then search for nearest neighbours with Euclidean distance in the latent feature space, which is hopefully more meaningful than the original \"user rating space\". In other words, we run nearest neighbors on the columns of $W$. Using $k=10$ and scikit-learn's [TruncatedSVD](http://scikit-learn.org/stable/modules/generated/sklearn.decomposition.TruncatedSVD.html) to perform the dimensionality reduction, find the 5 nearest neighbours to the grill brush using this method. You can access $W$ via the `components_` field of the `TruncatedSVD` object, after you fit it to the data. \n",
    "\n",
    "Briefly comment on your results.\n",
    "\n",
    "Implementation note: when you call on `NearestNeighbors.kneighbors`, it expects the input to be a 2D array. There's some weirdness here because `X` is a scipy sparse matrix but your `W` will be a dense matrix, and they behave differently in subtle ways. If you get an error like \"Expected 2D array, got 1D array instead\" then this is your problem: a column of `W` is technically a 1D array but a column of `X` has dimension $1\\times n$, which is technically a 2D array. You can take a 1D numpy array and add an extra first dimension to it with `array[None]`.\n",
    "\n",
    "Conceptual note 1: We are using the \"truncated\" rather than full SVD since a full SVD would involve dense $d\\times d$ matrices, which we've already established are too big to deal with. And then we'd only use the first $k$ rows of it anyway. So a full SVD would be both impossible and pointless.\n",
    "\n",
    "Conceptual note 2: as discussed in class, there is a problem here, which is that we're not ignoring the missing entries. You could get around this by optimizing the PCA objective with gradient descent, say using `findMin` from previous assignments. But we're just going to ignore that for now, as the assignment seems long enough as it is (or at least it's hard for me to judge how long it will take because it's new)."
   ]
  },
  {
   "cell_type": "code",
   "execution_count": 69,
   "metadata": {
    "scrolled": true
   },
   "outputs": [
    {
     "name": "stdout",
     "output_type": "stream",
     "text": [
      "https://www.amazon.com/dp/B000H1SJ8C\n",
      "https://www.amazon.com/dp/B000MVLB8W\n",
      "https://www.amazon.com/dp/B001VNC3Q4\n",
      "https://www.amazon.com/dp/B000X9BNG8\n",
      "https://www.amazon.com/dp/B004WB77L8\n"
     ]
    }
   ],
   "source": [
    "svd = TruncatedSVD(n_components=10)\n",
    "svd.fit(X)\n",
    "W = svd.components_\n",
    "Z = svd.transform(X)\n",
    "\n",
    "reduced_grill_brush = \"B00CFM0P7Y\"\n",
    "reduced_grill_brush_ind = item_mapper[grill_brush]\n",
    "reduced_grill_brush_vec = W[:,grill_brush_ind]\n",
    "\n",
    "reshaped_reduced_grill_brush_vec = np.reshape(reduced_grill_brush_vec, (-1, 1))\n",
    "\n",
    "model = NearestNeighbors(metric=\"euclidean\")\n",
    "model.fit(W.transpose())\n",
    "\n",
    "Y = model.kneighbors(reshaped_reduced_grill_brush_vec.transpose(), n_neighbors=6)\n",
    "\n",
    "I = 6\n",
    "for i in range(1, I):\n",
    "    print(url_amazon % item_inverse_mapper[Y[1][0][i]])"
   ]
  },
  {
   "cell_type": "markdown",
   "metadata": {},
   "source": [
    "It recommends grills instead of hand-held grill products, which is still very similar."
   ]
  },
  {
   "cell_type": "markdown",
   "metadata": {},
   "source": [
    "## Exercise 2: putting it all together in a CPSC 340 \"mini-project\"\n",
    "rubric={reasoning:25}\n",
    "\n",
    "In this open-ended mini-project, you'll explore the [UCI default of credit card clients data set](https://archive.ics.uci.edu/ml/datasets/default+of+credit+card+clients). There are 30,000 examples and 24 features, and the goal is to estimate whether a person will default (fail to pay) their credit card bills; this column is labeled \"default payment next month\" in the data. The rest of the columns can be used as features. \n",
    "\n",
    "\n",
    "\n",
    "**Your tasks:**\n",
    "\n",
    "1. Download the data set and load it in. Since the data comes as an MS Excel file, I suggest using [`pandas.read_excel`](https://pandas.pydata.org/pandas-docs/stable/generated/pandas.read_excel.html) to read it in. See [Lecture 2](https://github.ugrad.cs.ubc.ca/CPSC340-2017W-T2/home/blob/master/lectures/L2.ipynb) for an example of using pandas.\n",
    "2. Perform exploratory data analysis on the data set. Include at least two summary statistics and two visualizations that you find useful, and accompany each one with a sentence explaining it.\n",
    "3. Randomly split the data into train, validation, test sets. The validation set will be used for your experiments. The test set should be saved until the end, to make sure you didn't overfit on the validation set. You are welcome to use scikit-learn's [train_test_split](http://scikit-learn.org/stable/modules/generated/sklearn.model_selection.train_test_split.html), which takes care of both shuffling and splitting. \n",
    "4. Try scikit-learn's [DummyClassifier](http://scikit-learn.org/stable/modules/generated/sklearn.dummy.DummyClassifier.html) as a baseline model.\n",
    "5. Try logistic regression as a first real attempt. Make a plot of train/validation error vs. regularization strength. What’s the lowest validation error you can get?\n",
    "6. Explore the features, which are described on the UCI site. Explore preprocessing the features, in terms of transforming non-numerical variables, feature scaling, change of basis, etc. Did this improve your results?\n",
    "7. Try 3 other models aside from logistic regression, at least one of which is a neural network. Can you beat logistic regression? (For the neural net(s), the simplest choice would probably be to use scikit-learn's [MLPClassifier](http://scikit-learn.org/stable/modules/generated/sklearn.neural_network.MLPClassifier.html), but you are welcome to use any software you wish. )\n",
    "8. Make some attempts to optimize hyperparameters for the models you've tried and summarize your results. In at least one case you should be optimizing multiple hyperparameters for a single model. I won't make it a strict requirement, but I recommend checking out one of the following (the first two are simple scikit-learn tools, the latter two are much more sophisticated algorithms and require installing new packages): \n",
    "  - [GridSearchCV](http://scikit-learn.org/stable/modules/generated/sklearn.model_selection.GridSearchCV.html)   \n",
    "  - [RandomizedSearchCV](http://scikit-learn.org/stable/modules/generated/sklearn.model_selection.RandomizedSearchCV.html)\n",
    "  - [hyperopt-sklearn](https://github.com/hyperopt/hyperopt-sklearn)\n",
    "  - [scikit-optimize](https://github.com/scikit-optimize/scikit-optimize)\n",
    "9. Explore feature selection for this problem. What are some particularly relevant and irrelevant features? Can you improve on your original logistic regression model if you first remove some irrelevant features?\n",
    "10. Take your best model overall. Train it on the combined train/validation set and run it on the test set once. Does the test error agree fairly well with the validation error from before? Do you think you’ve had issues with optimization bias? Report your final test error directly in your README.md file as well as in your report.\n",
    "\n",
    "**Submission format:**\n",
    "Your submission should take the form of a \"report\" that includes both code and an explanation of what you've done. You don't have to include everything you ever tried - it's fine just to have your final code - but it should be reproducible. For example, if you chose your hyperparameters based on some hyperparameter optimization experiment, you should leave in the code for that experiment so that someone else could re-run it and obtain the same hyperparameters, rather than mysteriously just setting the hyperparameters to some (carefully chosen) values in your code.\n",
    "\n",
    "**Assessment:**\n",
    "We plan to grade and fairly leniently. We don't have some secret target accuracy that you need to achieve to get a good grade. You'll be assessed on demonstration of mastery of course topics, clear presentation, and the quality of your analysis and results. For example, if you write something like, \"And then I noticed the model was overfitting, so I decided to stop using regularization\" - then, well, that's not good. If you just have a bunch of code and no text or figures, that's not good. If you do a bunch of sane things and get a lower accuracy than your friend, don't sweat it.\n",
    "\n",
    "**And...**\n",
    "This style of this \"project\" question is different from other assignments. It'll be up to you to decide when you're \"done\" -- in fact, this is one of the hardest parts of real projects. But please don't spend WAY too much time on this... perhaps \"a few hours\" (2-6 hours???) is a good guideline for a typical submission. Of course if you're having fun you're welcome to spend as much time as you want! But, if so, don't do it out of perfectionism... do it because you're learning and enjoying it.\n",
    "\n"
   ]
  },
  {
   "cell_type": "markdown",
   "metadata": {},
   "source": [
    "# 1."
   ]
  },
  {
   "cell_type": "markdown",
   "metadata": {},
   "source": [
    " We downloaded the data and used pandas to read it in as a dataframe."
   ]
  },
  {
   "cell_type": "code",
   "execution_count": 70,
   "metadata": {},
   "outputs": [
    {
     "data": {
      "text/html": [
       "<div>\n",
       "<style scoped>\n",
       "    .dataframe tbody tr th:only-of-type {\n",
       "        vertical-align: middle;\n",
       "    }\n",
       "\n",
       "    .dataframe tbody tr th {\n",
       "        vertical-align: top;\n",
       "    }\n",
       "\n",
       "    .dataframe thead th {\n",
       "        text-align: right;\n",
       "    }\n",
       "</style>\n",
       "<table border=\"1\" class=\"dataframe\">\n",
       "  <thead>\n",
       "    <tr style=\"text-align: right;\">\n",
       "      <th></th>\n",
       "      <th>X1</th>\n",
       "      <th>X2</th>\n",
       "      <th>X3</th>\n",
       "      <th>X4</th>\n",
       "      <th>X5</th>\n",
       "      <th>X6</th>\n",
       "      <th>X7</th>\n",
       "      <th>X8</th>\n",
       "      <th>X9</th>\n",
       "      <th>X10</th>\n",
       "      <th>...</th>\n",
       "      <th>X15</th>\n",
       "      <th>X16</th>\n",
       "      <th>X17</th>\n",
       "      <th>X18</th>\n",
       "      <th>X19</th>\n",
       "      <th>X20</th>\n",
       "      <th>X21</th>\n",
       "      <th>X22</th>\n",
       "      <th>X23</th>\n",
       "      <th>Y</th>\n",
       "    </tr>\n",
       "  </thead>\n",
       "  <tbody>\n",
       "    <tr>\n",
       "      <th>ID</th>\n",
       "      <td>LIMIT_BAL</td>\n",
       "      <td>SEX</td>\n",
       "      <td>EDUCATION</td>\n",
       "      <td>MARRIAGE</td>\n",
       "      <td>AGE</td>\n",
       "      <td>PAY_0</td>\n",
       "      <td>PAY_2</td>\n",
       "      <td>PAY_3</td>\n",
       "      <td>PAY_4</td>\n",
       "      <td>PAY_5</td>\n",
       "      <td>...</td>\n",
       "      <td>BILL_AMT4</td>\n",
       "      <td>BILL_AMT5</td>\n",
       "      <td>BILL_AMT6</td>\n",
       "      <td>PAY_AMT1</td>\n",
       "      <td>PAY_AMT2</td>\n",
       "      <td>PAY_AMT3</td>\n",
       "      <td>PAY_AMT4</td>\n",
       "      <td>PAY_AMT5</td>\n",
       "      <td>PAY_AMT6</td>\n",
       "      <td>default payment next month</td>\n",
       "    </tr>\n",
       "    <tr>\n",
       "      <th>1</th>\n",
       "      <td>20000</td>\n",
       "      <td>2</td>\n",
       "      <td>2</td>\n",
       "      <td>1</td>\n",
       "      <td>24</td>\n",
       "      <td>2</td>\n",
       "      <td>2</td>\n",
       "      <td>-1</td>\n",
       "      <td>-1</td>\n",
       "      <td>-2</td>\n",
       "      <td>...</td>\n",
       "      <td>0</td>\n",
       "      <td>0</td>\n",
       "      <td>0</td>\n",
       "      <td>0</td>\n",
       "      <td>689</td>\n",
       "      <td>0</td>\n",
       "      <td>0</td>\n",
       "      <td>0</td>\n",
       "      <td>0</td>\n",
       "      <td>1</td>\n",
       "    </tr>\n",
       "    <tr>\n",
       "      <th>2</th>\n",
       "      <td>120000</td>\n",
       "      <td>2</td>\n",
       "      <td>2</td>\n",
       "      <td>2</td>\n",
       "      <td>26</td>\n",
       "      <td>-1</td>\n",
       "      <td>2</td>\n",
       "      <td>0</td>\n",
       "      <td>0</td>\n",
       "      <td>0</td>\n",
       "      <td>...</td>\n",
       "      <td>3272</td>\n",
       "      <td>3455</td>\n",
       "      <td>3261</td>\n",
       "      <td>0</td>\n",
       "      <td>1000</td>\n",
       "      <td>1000</td>\n",
       "      <td>1000</td>\n",
       "      <td>0</td>\n",
       "      <td>2000</td>\n",
       "      <td>1</td>\n",
       "    </tr>\n",
       "    <tr>\n",
       "      <th>3</th>\n",
       "      <td>90000</td>\n",
       "      <td>2</td>\n",
       "      <td>2</td>\n",
       "      <td>2</td>\n",
       "      <td>34</td>\n",
       "      <td>0</td>\n",
       "      <td>0</td>\n",
       "      <td>0</td>\n",
       "      <td>0</td>\n",
       "      <td>0</td>\n",
       "      <td>...</td>\n",
       "      <td>14331</td>\n",
       "      <td>14948</td>\n",
       "      <td>15549</td>\n",
       "      <td>1518</td>\n",
       "      <td>1500</td>\n",
       "      <td>1000</td>\n",
       "      <td>1000</td>\n",
       "      <td>1000</td>\n",
       "      <td>5000</td>\n",
       "      <td>0</td>\n",
       "    </tr>\n",
       "    <tr>\n",
       "      <th>4</th>\n",
       "      <td>50000</td>\n",
       "      <td>2</td>\n",
       "      <td>2</td>\n",
       "      <td>1</td>\n",
       "      <td>37</td>\n",
       "      <td>0</td>\n",
       "      <td>0</td>\n",
       "      <td>0</td>\n",
       "      <td>0</td>\n",
       "      <td>0</td>\n",
       "      <td>...</td>\n",
       "      <td>28314</td>\n",
       "      <td>28959</td>\n",
       "      <td>29547</td>\n",
       "      <td>2000</td>\n",
       "      <td>2019</td>\n",
       "      <td>1200</td>\n",
       "      <td>1100</td>\n",
       "      <td>1069</td>\n",
       "      <td>1000</td>\n",
       "      <td>0</td>\n",
       "    </tr>\n",
       "  </tbody>\n",
       "</table>\n",
       "<p>5 rows × 24 columns</p>\n",
       "</div>"
      ],
      "text/plain": [
       "           X1   X2         X3        X4   X5     X6     X7     X8     X9  \\\n",
       "ID  LIMIT_BAL  SEX  EDUCATION  MARRIAGE  AGE  PAY_0  PAY_2  PAY_3  PAY_4   \n",
       "1       20000    2          2         1   24      2      2     -1     -1   \n",
       "2      120000    2          2         2   26     -1      2      0      0   \n",
       "3       90000    2          2         2   34      0      0      0      0   \n",
       "4       50000    2          2         1   37      0      0      0      0   \n",
       "\n",
       "      X10             ...                    X15        X16        X17  \\\n",
       "ID  PAY_5             ...              BILL_AMT4  BILL_AMT5  BILL_AMT6   \n",
       "1      -2             ...                      0          0          0   \n",
       "2       0             ...                   3272       3455       3261   \n",
       "3       0             ...                  14331      14948      15549   \n",
       "4       0             ...                  28314      28959      29547   \n",
       "\n",
       "         X18       X19       X20       X21       X22       X23  \\\n",
       "ID  PAY_AMT1  PAY_AMT2  PAY_AMT3  PAY_AMT4  PAY_AMT5  PAY_AMT6   \n",
       "1          0       689         0         0         0         0   \n",
       "2          0      1000      1000      1000         0      2000   \n",
       "3       1518      1500      1000      1000      1000      5000   \n",
       "4       2000      2019      1200      1100      1069      1000   \n",
       "\n",
       "                             Y  \n",
       "ID  default payment next month  \n",
       "1                            1  \n",
       "2                            1  \n",
       "3                            0  \n",
       "4                            0  \n",
       "\n",
       "[5 rows x 24 columns]"
      ]
     },
     "execution_count": 70,
     "metadata": {},
     "output_type": "execute_result"
    }
   ],
   "source": [
    "filename = \"credit_card_data.xls\"\n",
    "\n",
    "with open(os.path.join(\"..\", \"data\", filename), \"rb\") as f:\n",
    "    credit_card = pd.read_excel(f)\n",
    "    \n",
    "credit_card.head()"
   ]
  },
  {
   "cell_type": "markdown",
   "metadata": {},
   "source": [
    "# 2."
   ]
  },
  {
   "cell_type": "markdown",
   "metadata": {},
   "source": [
    "Average age of credit card client."
   ]
  },
  {
   "cell_type": "code",
   "execution_count": 71,
   "metadata": {},
   "outputs": [
    {
     "data": {
      "text/plain": [
       "35.4855"
      ]
     },
     "execution_count": 71,
     "metadata": {},
     "output_type": "execute_result"
    }
   ],
   "source": [
    "age = credit_card[\"X5\"]\n",
    "age = age.drop(age.index[0])\n",
    "age.mean()"
   ]
  },
  {
   "cell_type": "markdown",
   "metadata": {},
   "source": [
    "Average payment delay for each credit card client."
   ]
  },
  {
   "cell_type": "code",
   "execution_count": 72,
   "metadata": {},
   "outputs": [
    {
     "data": {
      "text/plain": [
       "-0.16070666666666436"
      ]
     },
     "execution_count": 72,
     "metadata": {},
     "output_type": "execute_result"
    }
   ],
   "source": [
    "payments = credit_card[[\"X6\", \"X7\", \"X8\", \"X9\", \"X10\"]]\n",
    "payments = payments.drop(payments.index[0])\n",
    "avgOnTimenessPerUser = payments.mean(axis=1)\n",
    "avgOnTimenessPerUser.mean(axis=0)"
   ]
  },
  {
   "cell_type": "markdown",
   "metadata": {},
   "source": [
    "Bar graph of amount of male vs female clients."
   ]
  },
  {
   "cell_type": "code",
   "execution_count": 73,
   "metadata": {},
   "outputs": [
    {
     "name": "stderr",
     "output_type": "stream",
     "text": [
      "/home/trevin/anaconda3/lib/python3.6/site-packages/numpy/core/fromnumeric.py:52: FutureWarning: reshape is deprecated and will raise in a subsequent release. Please use .values.reshape(...) instead\n",
      "  return getattr(obj, method)(*args, **kwds)\n"
     ]
    },
    {
     "data": {
      "text/plain": [
       "([<matplotlib.axis.XTick at 0x7f99c734da20>,\n",
       "  <matplotlib.axis.XTick at 0x7f99ad6f1668>],\n",
       " <a list of 2 Text xticklabel objects>)"
      ]
     },
     "execution_count": 73,
     "metadata": {},
     "output_type": "execute_result"
    },
    {
     "data": {
      "image/png": "[encoded data removed]",
      "text/plain": [
       "<matplotlib.figure.Figure at 0x7f99c7342e10>"
      ]
     },
     "metadata": {},
     "output_type": "display_data"
    }
   ],
   "source": [
    "payments = credit_card[[\"X6\", \"X7\", \"X8\", \"X9\", \"X10\"]]\n",
    "payments = payments.drop(payments.index[0])\n",
    "avgOnTimenessPerUser = payments.mean(axis=1)\n",
    "gender = credit_card[\"X2\"]\n",
    "#print(gender)\n",
    "reshaped_gender = np.reshape(gender, (-1, 1))\n",
    "#print(reshaped_gender.shape)\n",
    "array_sex = reshaped_gender[:,0]\n",
    "count_m = 0;\n",
    "for i in range (3000):\n",
    "    if (array_sex[i] == 1):\n",
    "        count_m = count_m + 1\n",
    "count_male = count_m\n",
    "count_female = 3000-count_male\n",
    "\n",
    "y = [count_male, count_female]\n",
    "N = len(y)\n",
    "x = range(N)\n",
    "LABELS = [\"Male\", \"Female\"]\n",
    "width = 1/2\n",
    "plt.bar(x, y, width, color=\"blue\")\n",
    "\n",
    "plt.bar(x, y, align='center')\n",
    "plt.xticks(x, LABELS)\n",
    "\n",
    "#fig = plt.gcf()\n",
    "#plot_url = py.plot_mpl(fig, filename='mpl-basic-bar')"
   ]
  },
  {
   "cell_type": "markdown",
   "metadata": {},
   "source": [
    "Bar graph of martial status to amount of clients."
   ]
  },
  {
   "cell_type": "code",
   "execution_count": 74,
   "metadata": {},
   "outputs": [
    {
     "name": "stdout",
     "output_type": "stream",
     "text": [
      "[['MARRIAGE']\n",
      " [1]\n",
      " [2]\n",
      " ...\n",
      " [2]\n",
      " [1]\n",
      " [1]]\n",
      "40\n"
     ]
    },
    {
     "name": "stderr",
     "output_type": "stream",
     "text": [
      "/home/trevin/anaconda3/lib/python3.6/site-packages/numpy/core/fromnumeric.py:52: FutureWarning: reshape is deprecated and will raise in a subsequent release. Please use .values.reshape(...) instead\n",
      "  return getattr(obj, method)(*args, **kwds)\n"
     ]
    },
    {
     "data": {
      "text/plain": [
       "([<matplotlib.axis.XTick at 0x7f99c7324358>,\n",
       "  <matplotlib.axis.XTick at 0x7f99c73245c0>,\n",
       "  <matplotlib.axis.XTick at 0x7f99c73292b0>],\n",
       " <a list of 3 Text xticklabel objects>)"
      ]
     },
     "execution_count": 74,
     "metadata": {},
     "output_type": "execute_result"
    },
    {
     "data": {
      "image/png": "[encoded data removed]",
      "text/plain": [
       "<matplotlib.figure.Figure at 0x7f99ad6f1ba8>"
      ]
     },
     "metadata": {},
     "output_type": "display_data"
    }
   ],
   "source": [
    "marrital_status = credit_card[\"X4\"]\n",
    "#print(marrital_status)\n",
    "reshaped_marital_status = np.reshape(marrital_status, (-1, 1))\n",
    "print(reshaped_marital_status)\n",
    "array_marital_status = reshaped_marital_status[:,0]\n",
    "count_m = 0;\n",
    "count_s = 0;\n",
    "count_o = 0;\n",
    "for i in range (3000):\n",
    "    if (array_marital_status[i] == 3):\n",
    "        count_o = count_o + 1    \n",
    "    if (array_marital_status[i] == 1):\n",
    "        count_m = count_m + 1\n",
    "    if (array_marital_status[i] == 2):\n",
    "        count_s = count_s + 1\n",
    "\n",
    "count_married = count_m\n",
    "count_single = count_s\n",
    "count_other = count_o\n",
    "\n",
    "print(count_other)\n",
    "\n",
    "y = [count_married, count_single, count_other]\n",
    "N = len(y)\n",
    "x = range(N)\n",
    "LABELS = [\"married\", \"single\", \"other\"]\n",
    "width = 1/2\n",
    "plt.bar(x, y, width, color=\"blue\")\n",
    "\n",
    "plt.bar(x, y, align='center')\n",
    "plt.xticks(x, LABELS)"
   ]
  },
  {
   "cell_type": "markdown",
   "metadata": {},
   "source": [
    "# 3 and 4"
   ]
  },
  {
   "cell_type": "markdown",
   "metadata": {},
   "source": [
    "We split the data into training, validation and test sets, then used the DummyClassifier to fit on the training data and reported the validation error by predicting on the validation set."
   ]
  },
  {
   "cell_type": "code",
   "execution_count": 75,
   "metadata": {},
   "outputs": [
    {
     "name": "stdout",
     "output_type": "stream",
     "text": [
      "(14400, 24) (14400,)\n",
      "(6000, 24) (6000,)\n",
      "Validation error for dummy classifier:\n",
      "0.34739583333333335\n"
     ]
    }
   ],
   "source": [
    "# Split the data \n",
    "from sklearn.model_selection import train_test_split\n",
    "y = credit_card[\"Y\"]\n",
    "y = y.drop(y.index[0])\n",
    "\n",
    "dropped_credit_card = credit_card.drop(credit_card.index[0]) # drops the first row describing the columns\n",
    "\n",
    "X_train, X_test, y_train, y_test = train_test_split(dropped_credit_card, y, test_size=0.20, random_state=42)\n",
    "X_train, X_val, y_train, y_val = train_test_split(X_train, y_train, test_size=0.40, random_state=42)\n",
    "\n",
    "y_train=y_train.astype('int') \n",
    "print(X_train.shape, y_train.shape)\n",
    "print(X_test.shape, y_test.shape)\n",
    "\n",
    "from sklearn.dummy import DummyClassifier\n",
    "dc = DummyClassifier()\n",
    "baselineModel = dc.fit(X=X_train, y=y_train, sample_weight=None)\n",
    "\n",
    "y_hat = dc.predict(X_val)\n",
    "error = np.mean(y_hat != y_val)\n",
    "print(\"Validation error for dummy classifier:\")\n",
    "print(error)"
   ]
  },
  {
   "cell_type": "markdown",
   "metadata": {},
   "source": [
    "# 5."
   ]
  },
  {
   "cell_type": "markdown",
   "metadata": {},
   "source": [
    "We generated an array of regularization strengths that differ exponentially, and then calculated the validation error for each regularization strength. We then plotted the regularization strengths to validation error. The lowest validation error we got was 0.22502."
   ]
  },
  {
   "cell_type": "code",
   "execution_count": 76,
   "metadata": {},
   "outputs": [
    {
     "name": "stdout",
     "output_type": "stream",
     "text": [
      "0.5\n",
      "0.25\n",
      "0.125\n",
      "0.0625\n",
      "0.03125\n",
      "0.015625\n",
      "0.0078125\n",
      "0.00390625\n",
      "0.001953125\n",
      "0.0009765625\n"
     ]
    }
   ],
   "source": [
    "from sklearn.linear_model import LogisticRegression\n",
    "from math import ceil\n",
    "lr = LogisticRegression()\n",
    "logisticRegressionModel = lr.fit(X=X_train, y=y_train, sample_weight=None)\n",
    "\n",
    "min_irs = 1\n",
    "step_size = 1\n",
    "max_irs = 10 + step_size\n",
    "inverse_regularization_strengths = np.arange(min_irs, max_irs, step_size) \n",
    "inverse_regularization_strengths = 2 ** inverse_regularization_strengths;\n",
    "regularization_strengths = 1 / inverse_regularization_strengths;\n",
    "values = int(ceil((max_irs - min_irs) / step_size))\n",
    "validation_errors = np.zeros(values)\n",
    "i = 0\n",
    "\n",
    "for rs in regularization_strengths:\n",
    "    lr.C = rs\n",
    "    print(lr.C)\n",
    "    lr.fit(X=X_train, y=y_train, sample_weight=None)\n",
    "    y_hat = lr.predict(X_val)\n",
    "    error = np.mean(y_hat != y_val)\n",
    "    validation_errors[i] = error\n",
    "    i += 1"
   ]
  },
  {
   "cell_type": "code",
   "execution_count": 77,
   "metadata": {},
   "outputs": [
    {
     "data": {
      "image/png": "[encoded data removed]",
      "text/plain": [
       "<matplotlib.figure.Figure at 0x7f99c07d52b0>"
      ]
     },
     "metadata": {},
     "output_type": "display_data"
    }
   ],
   "source": [
    "#print(validation_errors)\n",
    "#print(values)\n",
    "#print(regularization_strengths)\n",
    "plt.plot(regularization_strengths, validation_errors)\n",
    "plt.ylabel(\"validation error\")\n",
    "plt.xlabel(\"regularization strength\")\n",
    "plt.show()"
   ]
  },
  {
   "cell_type": "markdown",
   "metadata": {},
   "source": [
    "# 6"
   ]
  },
  {
   "cell_type": "markdown",
   "metadata": {},
   "source": [
    "We scaled the matrix and the validation error stayed the same."
   ]
  },
  {
   "cell_type": "code",
   "execution_count": 78,
   "metadata": {},
   "outputs": [
    {
     "name": "stdout",
     "output_type": "stream",
     "text": [
      "Validation error for logistic regression classifier:\n",
      "0.220625\n",
      "Validation error for scaled logistic regression classifier:\n",
      "0.220625\n"
     ]
    }
   ],
   "source": [
    "from sklearn.linear_model import LogisticRegression\n",
    "from math import ceil\n",
    "lr = LogisticRegression()\n",
    "logisticRegressionModel = lr.fit(X=X_train, y=y_train, sample_weight=None)\n",
    "y_hat = lr.predict(X_val)\n",
    "error = np.mean(y_hat != y_val)\n",
    "print(\"Validation error for logistic regression classifier:\")\n",
    "print(error)\n",
    "\n",
    "from sklearn import preprocessing\n",
    "X_scaled = preprocessing.scale(X_train, with_mean=False)\n",
    "#print(X_scaled)\n",
    "\n",
    "lr = LogisticRegression()\n",
    "logisticRegressionModel = lr.fit(X=X_train, y=y_train, sample_weight=None)\n",
    "y_hat = lr.predict(X_val)\n",
    "error = np.mean(y_hat != y_val)\n",
    "print(\"Validation error for scaled logistic regression classifier:\")\n",
    "print(error)"
   ]
  },
  {
   "cell_type": "markdown",
   "metadata": {},
   "source": [
    "# 7"
   ]
  },
  {
   "cell_type": "markdown",
   "metadata": {},
   "source": [
    "We ran a Random Forest model, a Neural Network model and a KNN model. The Random Forest classifier gave us our lowest validation error of 0.0, which is very odd - however, we were unable to figure out why. The Neural Network classifier gave us a validation error of 0.27010, as well as the KNN classifier, which also seemed a bit strange."
   ]
  },
  {
   "cell_type": "code",
   "execution_count": 79,
   "metadata": {},
   "outputs": [
    {
     "name": "stdout",
     "output_type": "stream",
     "text": [
      "Validation error for random forest classifier:\n",
      "0.0\n"
     ]
    }
   ],
   "source": [
    "from sklearn.ensemble import RandomForestClassifier\n",
    "rf = RandomForestClassifier(n_estimators=23)\n",
    "rf.fit(X_train, y_train)\n",
    "\n",
    "y_hat = rf.predict(X_val)\n",
    "error = np.mean(y_hat != y_val)\n",
    "print(\"Validation error for random forest classifier:\")\n",
    "print(error)"
   ]
  },
  {
   "cell_type": "code",
   "execution_count": 80,
   "metadata": {},
   "outputs": [
    {
     "name": "stdout",
     "output_type": "stream",
     "text": [
      "Validation error for neural network classifier:\n",
      "0.27010416666666665\n"
     ]
    }
   ],
   "source": [
    "from sklearn.neural_network import MLPClassifier\n",
    "mlp = MLPClassifier()\n",
    "mlp.fit(X=X_train, y=y_train)\n",
    "\n",
    "y_hat = mlp.predict(X_val)\n",
    "error = np.mean(y_hat != y_val)\n",
    "print(\"Validation error for neural network classifier:\")\n",
    "print(error)"
   ]
  },
  {
   "cell_type": "code",
   "execution_count": 81,
   "metadata": {},
   "outputs": [
    {
     "name": "stdout",
     "output_type": "stream",
     "text": [
      "Validation error for k nearest neighbors classifier:\n",
      "0.27010416666666665\n"
     ]
    }
   ],
   "source": [
    "from sklearn.neighbors import KNeighborsClassifier\n",
    "knnc = KNeighborsClassifier()\n",
    "knnc.fit(X=X_train, y=y_train)\n",
    "\n",
    "y_hat = mlp.predict(X_val)\n",
    "error = np.mean(y_hat != y_val)\n",
    "print(\"Validation error for k nearest neighbors classifier:\")\n",
    "print(error)"
   ]
  },
  {
   "cell_type": "markdown",
   "metadata": {},
   "source": [
    "# 8"
   ]
  },
  {
   "cell_type": "markdown",
   "metadata": {},
   "source": [
    "We optimized alpha and momentum for the Neural Network model by generating random values for them and running RandomizedSearchCV on them. After that, we ran the Neural Network model again with the optimized parameters. We got a lower validation error of 0.23114."
   ]
  },
  {
   "cell_type": "code",
   "execution_count": 82,
   "metadata": {},
   "outputs": [
    {
     "name": "stdout",
     "output_type": "stream",
     "text": [
      "Validation error for mlp with optimized parameters classifier:\n",
      "0.23114583333333333\n"
     ]
    }
   ],
   "source": [
    "from sklearn.model_selection import RandomizedSearchCV\n",
    "import scipy\n",
    "from scipy.stats import uniform as sp_rand\n",
    "\n",
    "param_grid = {'alpha': sp_rand(), 'momentum': sp_rand()}\n",
    "rs = RandomizedSearchCV(estimator=mlp, param_distributions=param_grid, n_iter=10)\n",
    "\n",
    "X_train_ndarray = X_train.as_matrix()\n",
    "y_train_ndarray = y_train.as_matrix()\n",
    "rs.fit(X_train, y_train)\n",
    "\n",
    "y_hat = rs.predict(X_val)\n",
    "error = np.mean(y_hat != y_val)\n",
    "print(\"Validation error for mlp with optimized parameters classifier:\")\n",
    "print(error)"
   ]
  },
  {
   "cell_type": "markdown",
   "metadata": {},
   "source": [
    "# 9"
   ]
  },
  {
   "cell_type": "markdown",
   "metadata": {},
   "source": [
    "We dropped sex and martial status in the hopes that our features would be more relevant to the model, but the validation error remained the same."
   ]
  },
  {
   "cell_type": "code",
   "execution_count": 83,
   "metadata": {},
   "outputs": [
    {
     "name": "stdout",
     "output_type": "stream",
     "text": [
      "Validation error for logistic regression classifier:\n",
      "0.22052083333333333\n"
     ]
    }
   ],
   "source": [
    "X_train_dropped = X_train.drop(['X2', 'X4'], axis=1)\n",
    "X_val_dropped = X_val.drop(['X2', 'X4'], axis=1)\n",
    "\n",
    "from sklearn.linear_model import LogisticRegression\n",
    "from math import ceil\n",
    "lr = LogisticRegression()\n",
    "logisticRegressionModel = lr.fit(X=X_train_dropped, y=y_train, sample_weight=None)\n",
    "y_hat = lr.predict(X_val_dropped)\n",
    "error = np.mean(y_hat != y_val)\n",
    "print(\"Validation error for logistic regression classifier:\")\n",
    "print(error)"
   ]
  },
  {
   "cell_type": "markdown",
   "metadata": {},
   "source": [
    "# 10"
   ]
  },
  {
   "cell_type": "markdown",
   "metadata": {},
   "source": [
    "We used the Random Forest model from before and trained it on the combined train/validation set, then used it to predict the test set. It also got a test error of 0.0, which we also found odd."
   ]
  },
  {
   "cell_type": "code",
   "execution_count": 84,
   "metadata": {},
   "outputs": [
    {
     "name": "stdout",
     "output_type": "stream",
     "text": [
      "Test error for random forest classifier:\n",
      "0.0\n"
     ]
    }
   ],
   "source": [
    "Xframes = [X_train, X_val]\n",
    "X_combined = pd.concat(Xframes)\n",
    "\n",
    "yframes = [y_train, y_val]\n",
    "y_combined = pd.concat(yframes)\n",
    "\n",
    "X_combined=X_combined.astype('int') \n",
    "y_combined=y_combined.astype('int') \n",
    "\n",
    "bestModel = rf.fit(X=X_combined, y=y_combined)\n",
    "\n",
    "y_hat = rf.predict(X_test)\n",
    "error = np.mean(y_hat != y_test)\n",
    "print(\"Test error for random forest classifier:\")\n",
    "print(error)"
   ]
  },
  {
   "cell_type": "markdown",
   "metadata": {},
   "source": [
    "## Exercise 3: Very short answer questions\n",
    "rubric={reasoning:7}\n",
    "\n",
    "1. Why is it difficult for a standard collaborative filtering model to make good predictions for new items?\n",
    "2. Consider a fully connected neural network with layer sizes (10,20,20,5); that is, the input dimensionality is 10, there are two hidden layers each of size 20, and the output dimensionality is 5. How many parameters does the network have, including biases?\n",
    "3. Why do we need nonlinear activation functions in neural networks?\n",
    "4. Assuming we could globally minimize the neural network objectve, how does the depth of a neural network affect the fundamental trade-off?\n",
    "5. List 3 forms of regularization we use to prevent overfitting in neural networks.\n",
    "6. Assuming we could globally minimize the neural network objectve, how would the size of the filters in a convolutational neural network affect the fundamental trade-off?\n",
    "7. Why do people say convolutional neural networks just a special case of a fully-connected (regular) neural networks? What does this imply about the number of learned parameters?\n"
   ]
  },
  {
   "cell_type": "markdown",
   "metadata": {},
   "source": [
    "# Answers"
   ]
  },
  {
   "cell_type": "markdown",
   "metadata": {
    "collapsed": true
   },
   "source": [
    "1. Because it depends on similar users having an opinion on that item - new items dont have this<br>\n",
    "2. (11)(21)(21)(5) = 24,255 <br>\n",
    "3. Because, otherwise it's just a linear model <br>\n",
    "4. The deeper the neural network is: the more the training error decreases, and the less the training error approximates the test error. (overfits) <br>\n",
    "5. Weight decay, early stopping, and dropout <br>\n",
    "6. If the filter size is smaller - the number of parameters is fewer: which reduces overfitting, increasing the training error, but making the training error a better approximation of the test error <br>\n",
    "7. because it reduces the size of the matrix - proves that we dont need all the parameters <br>"
   ]
  }
 ],
 "metadata": {
  "anaconda-cloud": {},
  "kernelspec": {
   "display_name": "Python 3",
   "language": "python",
   "name": "python3"
  },
  "language_info": {
   "codemirror_mode": {
    "name": "ipython",
    "version": 3
   },
   "file_extension": ".py",
   "mimetype": "text/x-python",
   "name": "python",
   "nbconvert_exporter": "python",
   "pygments_lexer": "ipython3",
   "version": "3.6.4"
  }
 },
 "nbformat": 4,
 "nbformat_minor": 2
}
